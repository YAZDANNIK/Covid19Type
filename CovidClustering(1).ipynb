{
  "nbformat": 4,
  "nbformat_minor": 0,
  "metadata": {
    "colab": {
      "name": "CovidClustering.ipynb",
      "provenance": [],
      "collapsed_sections": []
    },
    "kernelspec": {
      "name": "python3",
      "display_name": "Python 3"
    }
  },
  "cells": [
    {
      "cell_type": "code",
      "metadata": {
        "id": "8trUSrB1lWDD",
        "colab_type": "code",
        "outputId": "90e36be3-b638-4d8e-d818-0f49b90a236d",
        "colab": {
          "base_uri": "https://localhost:8080/",
          "height": 364
        }
      },
      "source": [
        "!pip install covid"
      ],
      "execution_count": 0,
      "outputs": [
        {
          "output_type": "stream",
          "text": [
            "Requirement already satisfied: covid in /usr/local/lib/python3.6/dist-packages (2.2.6)\n",
            "Requirement already satisfied: beautifulsoup4 in /usr/local/lib/python3.6/dist-packages (from covid) (4.6.3)\n",
            "Requirement already satisfied: requests in /usr/local/lib/python3.6/dist-packages (from covid) (2.23.0)\n",
            "Requirement already satisfied: pydantic in /usr/local/lib/python3.6/dist-packages (from covid) (1.5.1)\n",
            "Requirement already satisfied: certifi>=2017.4.17 in /usr/local/lib/python3.6/dist-packages (from requests->covid) (2020.4.5.1)\n",
            "Requirement already satisfied: urllib3!=1.25.0,!=1.25.1,<1.26,>=1.21.1 in /usr/local/lib/python3.6/dist-packages (from requests->covid) (1.24.3)\n",
            "Requirement already satisfied: idna<3,>=2.5 in /usr/local/lib/python3.6/dist-packages (from requests->covid) (2.9)\n",
            "Requirement already satisfied: chardet<4,>=3.0.2 in /usr/local/lib/python3.6/dist-packages (from requests->covid) (3.0.4)\n",
            "Requirement already satisfied: dataclasses>=0.6; python_version < \"3.7\" in /usr/local/lib/python3.6/dist-packages (from pydantic->covid) (0.7)\n",
            "Requirement already satisfied: covid in /usr/local/lib/python3.6/dist-packages (2.2.6)\n",
            "Requirement already satisfied: requests in /usr/local/lib/python3.6/dist-packages (from covid) (2.23.0)\n",
            "Requirement already satisfied: pydantic in /usr/local/lib/python3.6/dist-packages (from covid) (1.5.1)\n",
            "Requirement already satisfied: beautifulsoup4 in /usr/local/lib/python3.6/dist-packages (from covid) (4.6.3)\n",
            "Requirement already satisfied: certifi>=2017.4.17 in /usr/local/lib/python3.6/dist-packages (from requests->covid) (2020.4.5.1)\n",
            "Requirement already satisfied: chardet<4,>=3.0.2 in /usr/local/lib/python3.6/dist-packages (from requests->covid) (3.0.4)\n",
            "Requirement already satisfied: urllib3!=1.25.0,!=1.25.1,<1.26,>=1.21.1 in /usr/local/lib/python3.6/dist-packages (from requests->covid) (1.24.3)\n",
            "Requirement already satisfied: idna<3,>=2.5 in /usr/local/lib/python3.6/dist-packages (from requests->covid) (2.9)\n",
            "Requirement already satisfied: dataclasses>=0.6; python_version < \"3.7\" in /usr/local/lib/python3.6/dist-packages (from pydantic->covid) (0.7)\n"
          ],
          "name": "stdout"
        }
      ]
    },
    {
      "cell_type": "code",
      "metadata": {
        "id": "3BzvT9oAl_4M",
        "colab_type": "code",
        "colab": {}
      },
      "source": [
        "from covid import Covid\n",
        "\n",
        "covid = Covid()\n",
        "data=covid.get_data()"
      ],
      "execution_count": 0,
      "outputs": []
    },
    {
      "cell_type": "code",
      "metadata": {
        "id": "n2Q3h66YmCJu",
        "colab_type": "code",
        "colab": {}
      },
      "source": [
        "import csv"
      ],
      "execution_count": 0,
      "outputs": []
    },
    {
      "cell_type": "code",
      "metadata": {
        "id": "Rzmt74RqmD0x",
        "colab_type": "code",
        "colab": {}
      },
      "source": [
        "csvfile=open('covid.csv','w', newline='') \n",
        "fields=list(data[0].keys())\n",
        "obj=csv.DictWriter(csvfile, fieldnames=fields)\t      \n",
        "obj.writeheader()\t      \n",
        "obj.writerows(data)\t      \n",
        "csvfile.close()"
      ],
      "execution_count": 0,
      "outputs": []
    },
    {
      "cell_type": "code",
      "metadata": {
        "id": "YCbPsmQ1mQri",
        "colab_type": "code",
        "colab": {}
      },
      "source": [
        "import pandas as pd\n",
        "import numpy as np\n",
        "import matplotlib.pyplot as plt\n",
        "from sklearn.model_selection import train_test_split\n",
        "from matplotlib.colors import ListedColormap"
      ],
      "execution_count": 0,
      "outputs": []
    },
    {
      "cell_type": "code",
      "metadata": {
        "id": "aj8OgHQDmVtL",
        "colab_type": "code",
        "colab": {}
      },
      "source": [
        "from sklearn.cluster import KMeans"
      ],
      "execution_count": 0,
      "outputs": []
    },
    {
      "cell_type": "code",
      "metadata": {
        "id": "Rwb4UYKumgOE",
        "colab_type": "code",
        "colab": {}
      },
      "source": [
        "df=pd.read_csv(\"covid.csv\")\n",
        "olddf=pd.read_csv(\"COVIDTYPE.csv\")"
      ],
      "execution_count": 0,
      "outputs": []
    },
    {
      "cell_type": "code",
      "metadata": {
        "id": "qO1rBMzyn00O",
        "colab_type": "code",
        "colab": {}
      },
      "source": [
        "df['confirmed'].fillna(df['active']+df['deaths']+df['recovered'],inplace=True)\n",
        "df['active'].fillna(df['confirmed']-(df['deaths']+df['recovered']),inplace=True)\n",
        "df['deaths'].fillna(df['confirmed']-(df['active']+df['recovered']),inplace=True)\n",
        "df['recovered'].fillna(df['confirmed']-(df['active']+df['deaths']),inplace=True)\n",
        "deathpercent=(df['deaths']/df['confirmed'])*100\n",
        "recoverpercent=(df['recovered']/df['confirmed'])*100\n",
        "df['deathpercent']=deathpercent\n",
        "df['recoverpercent']=recoverpercent"
      ],
      "execution_count": 0,
      "outputs": []
    },
    {
      "cell_type": "code",
      "metadata": {
        "id": "wUXD5uCTmnAq",
        "colab_type": "code",
        "colab": {}
      },
      "source": [
        "df = pd.merge(df,olddf[['id','TYPE']],on='id')"
      ],
      "execution_count": 0,
      "outputs": []
    },
    {
      "cell_type": "code",
      "metadata": {
        "id": "EwXW8TAKmsOj",
        "colab_type": "code",
        "colab": {}
      },
      "source": [
        "df.to_csv('covid.csv', index=False)"
      ],
      "execution_count": 0,
      "outputs": []
    },
    {
      "cell_type": "code",
      "metadata": {
        "id": "ToS8ITQdmxNC",
        "colab_type": "code",
        "colab": {}
      },
      "source": [
        "df = df[pd.notnull(df['TYPE'])]"
      ],
      "execution_count": 0,
      "outputs": []
    },
    {
      "cell_type": "code",
      "metadata": {
        "id": "GG3I9u4Em08J",
        "colab_type": "code",
        "colab": {}
      },
      "source": [
        "df.TYPE=df.TYPE.apply(['A','B','C'].index)"
      ],
      "execution_count": 0,
      "outputs": []
    },
    {
      "cell_type": "code",
      "metadata": {
        "id": "9x5FGWyRnRDn",
        "colab_type": "code",
        "colab": {}
      },
      "source": [
        "df = df.drop('last_update', axis=1)"
      ],
      "execution_count": 0,
      "outputs": []
    },
    {
      "cell_type": "code",
      "metadata": {
        "id": "q2qLww1WqlBj",
        "colab_type": "code",
        "colab": {}
      },
      "source": [
        "df=df.drop('latitude', axis=1)\n",
        "df=df.drop('longitude', axis=1)"
      ],
      "execution_count": 0,
      "outputs": []
    },
    {
      "cell_type": "code",
      "metadata": {
        "id": "ob2HPZKRqxdc",
        "colab_type": "code",
        "outputId": "25f071b4-d3eb-4ad3-bf77-30edcbe66136",
        "colab": {
          "base_uri": "https://localhost:8080/",
          "height": 424
        }
      },
      "source": [
        "df"
      ],
      "execution_count": 0,
      "outputs": [
        {
          "output_type": "execute_result",
          "data": {
            "text/html": [
              "<div>\n",
              "<style scoped>\n",
              "    .dataframe tbody tr th:only-of-type {\n",
              "        vertical-align: middle;\n",
              "    }\n",
              "\n",
              "    .dataframe tbody tr th {\n",
              "        vertical-align: top;\n",
              "    }\n",
              "\n",
              "    .dataframe thead th {\n",
              "        text-align: right;\n",
              "    }\n",
              "</style>\n",
              "<table border=\"1\" class=\"dataframe\">\n",
              "  <thead>\n",
              "    <tr style=\"text-align: right;\">\n",
              "      <th></th>\n",
              "      <th>id</th>\n",
              "      <th>country</th>\n",
              "      <th>confirmed</th>\n",
              "      <th>active</th>\n",
              "      <th>deaths</th>\n",
              "      <th>recovered</th>\n",
              "      <th>deathpercent</th>\n",
              "      <th>recoverpercent</th>\n",
              "      <th>TYPE</th>\n",
              "    </tr>\n",
              "  </thead>\n",
              "  <tbody>\n",
              "    <tr>\n",
              "      <th>0</th>\n",
              "      <td>18</td>\n",
              "      <td>US</td>\n",
              "      <td>1256972</td>\n",
              "      <td>1010344</td>\n",
              "      <td>75670</td>\n",
              "      <td>195036</td>\n",
              "      <td>6.020023</td>\n",
              "      <td>15.516336</td>\n",
              "      <td>0</td>\n",
              "    </tr>\n",
              "    <tr>\n",
              "      <th>1</th>\n",
              "      <td>162</td>\n",
              "      <td>Spain</td>\n",
              "      <td>221447</td>\n",
              "      <td>66866</td>\n",
              "      <td>26070</td>\n",
              "      <td>128511</td>\n",
              "      <td>11.772569</td>\n",
              "      <td>58.032396</td>\n",
              "      <td>1</td>\n",
              "    </tr>\n",
              "    <tr>\n",
              "      <th>2</th>\n",
              "      <td>11</td>\n",
              "      <td>Italy</td>\n",
              "      <td>215858</td>\n",
              "      <td>89624</td>\n",
              "      <td>29958</td>\n",
              "      <td>96276</td>\n",
              "      <td>13.878568</td>\n",
              "      <td>44.601544</td>\n",
              "      <td>2</td>\n",
              "    </tr>\n",
              "    <tr>\n",
              "      <th>3</th>\n",
              "      <td>17</td>\n",
              "      <td>United Kingdom</td>\n",
              "      <td>207977</td>\n",
              "      <td>176318</td>\n",
              "      <td>30689</td>\n",
              "      <td>970</td>\n",
              "      <td>14.755959</td>\n",
              "      <td>0.466398</td>\n",
              "      <td>1</td>\n",
              "    </tr>\n",
              "    <tr>\n",
              "      <th>4</th>\n",
              "      <td>14</td>\n",
              "      <td>Russia</td>\n",
              "      <td>187859</td>\n",
              "      <td>159528</td>\n",
              "      <td>1723</td>\n",
              "      <td>26608</td>\n",
              "      <td>0.917177</td>\n",
              "      <td>14.163814</td>\n",
              "      <td>1</td>\n",
              "    </tr>\n",
              "    <tr>\n",
              "      <th>...</th>\n",
              "      <td>...</td>\n",
              "      <td>...</td>\n",
              "      <td>...</td>\n",
              "      <td>...</td>\n",
              "      <td>...</td>\n",
              "      <td>...</td>\n",
              "      <td>...</td>\n",
              "      <td>...</td>\n",
              "      <td>...</td>\n",
              "    </tr>\n",
              "    <tr>\n",
              "      <th>179</th>\n",
              "      <td>53</td>\n",
              "      <td>Comoros</td>\n",
              "      <td>8</td>\n",
              "      <td>7</td>\n",
              "      <td>1</td>\n",
              "      <td>0</td>\n",
              "      <td>12.500000</td>\n",
              "      <td>0.000000</td>\n",
              "      <td>1</td>\n",
              "    </tr>\n",
              "    <tr>\n",
              "      <th>180</th>\n",
              "      <td>118</td>\n",
              "      <td>Mauritania</td>\n",
              "      <td>8</td>\n",
              "      <td>1</td>\n",
              "      <td>1</td>\n",
              "      <td>6</td>\n",
              "      <td>12.500000</td>\n",
              "      <td>75.000000</td>\n",
              "      <td>2</td>\n",
              "    </tr>\n",
              "    <tr>\n",
              "      <th>181</th>\n",
              "      <td>137</td>\n",
              "      <td>Papua New Guinea</td>\n",
              "      <td>8</td>\n",
              "      <td>0</td>\n",
              "      <td>0</td>\n",
              "      <td>8</td>\n",
              "      <td>0.000000</td>\n",
              "      <td>100.000000</td>\n",
              "      <td>0</td>\n",
              "    </tr>\n",
              "    <tr>\n",
              "      <th>182</th>\n",
              "      <td>36</td>\n",
              "      <td>Bhutan</td>\n",
              "      <td>7</td>\n",
              "      <td>2</td>\n",
              "      <td>0</td>\n",
              "      <td>5</td>\n",
              "      <td>0.000000</td>\n",
              "      <td>71.428571</td>\n",
              "      <td>1</td>\n",
              "    </tr>\n",
              "    <tr>\n",
              "      <th>183</th>\n",
              "      <td>184</td>\n",
              "      <td>Western Sahara</td>\n",
              "      <td>6</td>\n",
              "      <td>1</td>\n",
              "      <td>0</td>\n",
              "      <td>5</td>\n",
              "      <td>0.000000</td>\n",
              "      <td>83.333333</td>\n",
              "      <td>1</td>\n",
              "    </tr>\n",
              "  </tbody>\n",
              "</table>\n",
              "<p>183 rows × 9 columns</p>\n",
              "</div>"
            ],
            "text/plain": [
              "      id           country  confirmed  ...  deathpercent  recoverpercent  TYPE\n",
              "0     18                US    1256972  ...      6.020023       15.516336     0\n",
              "1    162             Spain     221447  ...     11.772569       58.032396     1\n",
              "2     11             Italy     215858  ...     13.878568       44.601544     2\n",
              "3     17    United Kingdom     207977  ...     14.755959        0.466398     1\n",
              "4     14            Russia     187859  ...      0.917177       14.163814     1\n",
              "..   ...               ...        ...  ...           ...             ...   ...\n",
              "179   53           Comoros          8  ...     12.500000        0.000000     1\n",
              "180  118        Mauritania          8  ...     12.500000       75.000000     2\n",
              "181  137  Papua New Guinea          8  ...      0.000000      100.000000     0\n",
              "182   36            Bhutan          7  ...      0.000000       71.428571     1\n",
              "183  184    Western Sahara          6  ...      0.000000       83.333333     1\n",
              "\n",
              "[183 rows x 9 columns]"
            ]
          },
          "metadata": {
            "tags": []
          },
          "execution_count": 16
        }
      ]
    },
    {
      "cell_type": "code",
      "metadata": {
        "id": "hephzIVKnNFZ",
        "colab_type": "code",
        "outputId": "3d250382-9cdd-407a-95ec-5bc27683d442",
        "colab": {
          "base_uri": "https://localhost:8080/",
          "height": 35
        }
      },
      "source": [
        "X = df.iloc[:,2:8].values  \n",
        "X.shape"
      ],
      "execution_count": 0,
      "outputs": [
        {
          "output_type": "execute_result",
          "data": {
            "text/plain": [
              "(183, 6)"
            ]
          },
          "metadata": {
            "tags": []
          },
          "execution_count": 17
        }
      ]
    },
    {
      "cell_type": "code",
      "metadata": {
        "id": "GFGD75kAnKS1",
        "colab_type": "code",
        "colab": {}
      },
      "source": [
        "from sklearn.feature_selection import SelectKBest\n",
        "from sklearn.feature_selection import chi2"
      ],
      "execution_count": 0,
      "outputs": []
    },
    {
      "cell_type": "code",
      "metadata": {
        "id": "pqqnGgBdoa-0",
        "colab_type": "code",
        "colab": {}
      },
      "source": [
        "s=SelectKBest(chi2,k=2)"
      ],
      "execution_count": 0,
      "outputs": []
    },
    {
      "cell_type": "code",
      "metadata": {
        "id": "tidIp_l8oj-I",
        "colab_type": "code",
        "colab": {}
      },
      "source": [
        "Xnew=s.fit_transform(X,df['TYPE'])\n"
      ],
      "execution_count": 0,
      "outputs": []
    },
    {
      "cell_type": "code",
      "metadata": {
        "id": "OqboIK5worWM",
        "colab_type": "code",
        "colab": {}
      },
      "source": [
        "from sklearn.feature_selection import SelectFromModel\n",
        "from sklearn.ensemble import ExtraTreesClassifier"
      ],
      "execution_count": 0,
      "outputs": []
    },
    {
      "cell_type": "code",
      "metadata": {
        "id": "uLsb3R4-tyqo",
        "colab_type": "code",
        "colab": {}
      },
      "source": [
        "clf=ExtraTreesClassifier(n_estimators=5000)"
      ],
      "execution_count": 0,
      "outputs": []
    },
    {
      "cell_type": "code",
      "metadata": {
        "id": "V0xDvPDSt7fl",
        "colab_type": "code",
        "outputId": "e9cf77e7-725f-417c-b339-565d26ee505a",
        "colab": {
          "base_uri": "https://localhost:8080/",
          "height": 162
        }
      },
      "source": [
        "clf.fit(X,df['TYPE'])"
      ],
      "execution_count": 0,
      "outputs": [
        {
          "output_type": "execute_result",
          "data": {
            "text/plain": [
              "ExtraTreesClassifier(bootstrap=False, ccp_alpha=0.0, class_weight=None,\n",
              "                     criterion='gini', max_depth=None, max_features='auto',\n",
              "                     max_leaf_nodes=None, max_samples=None,\n",
              "                     min_impurity_decrease=0.0, min_impurity_split=None,\n",
              "                     min_samples_leaf=1, min_samples_split=2,\n",
              "                     min_weight_fraction_leaf=0.0, n_estimators=5000,\n",
              "                     n_jobs=None, oob_score=False, random_state=None, verbose=0,\n",
              "                     warm_start=False)"
            ]
          },
          "metadata": {
            "tags": []
          },
          "execution_count": 23
        }
      ]
    },
    {
      "cell_type": "code",
      "metadata": {
        "id": "hvpzFqLNuA1r",
        "colab_type": "code",
        "outputId": "bb528fb1-0716-4a7b-f002-3d419455e5c4",
        "colab": {
          "base_uri": "https://localhost:8080/",
          "height": 53
        }
      },
      "source": [
        "clf.feature_importances_"
      ],
      "execution_count": 0,
      "outputs": [
        {
          "output_type": "execute_result",
          "data": {
            "text/plain": [
              "array([0.17104745, 0.16669017, 0.14676882, 0.17776028, 0.160565  ,\n",
              "       0.17716828])"
            ]
          },
          "metadata": {
            "tags": []
          },
          "execution_count": 24
        }
      ]
    },
    {
      "cell_type": "code",
      "metadata": {
        "id": "ZBTTSufYuEui",
        "colab_type": "code",
        "outputId": "7907b1c3-71f8-4f5b-d1db-4693626b740b",
        "colab": {
          "base_uri": "https://localhost:8080/",
          "height": 35
        }
      },
      "source": [
        "model=SelectFromModel(clf,prefit=True)\n",
        "Xnew2=model.transform(X)\n",
        "Xnew2.shape"
      ],
      "execution_count": 0,
      "outputs": [
        {
          "output_type": "execute_result",
          "data": {
            "text/plain": [
              "(183, 4)"
            ]
          },
          "metadata": {
            "tags": []
          },
          "execution_count": 25
        }
      ]
    },
    {
      "cell_type": "code",
      "metadata": {
        "id": "5ImTHquYuxAU",
        "colab_type": "code",
        "colab": {}
      },
      "source": [
        "from sklearn.cluster import KMeans"
      ],
      "execution_count": 0,
      "outputs": []
    },
    {
      "cell_type": "code",
      "metadata": {
        "id": "-VCiNy629ife",
        "colab_type": "code",
        "colab": {}
      },
      "source": [
        "xKmean=df.iloc[:,6:8].values"
      ],
      "execution_count": 0,
      "outputs": []
    },
    {
      "cell_type": "code",
      "metadata": {
        "id": "ydsRJolbwrzf",
        "colab_type": "code",
        "colab": {}
      },
      "source": [
        "model=KMeans(n_clusters=3,random_state=0)\n",
        "y=model.fit(xKmean)"
      ],
      "execution_count": 0,
      "outputs": []
    },
    {
      "cell_type": "code",
      "metadata": {
        "id": "opqHQRIow9AT",
        "colab_type": "code",
        "outputId": "65b7c5fa-ae3b-4aab-a249-e5788cd4afb7",
        "colab": {
          "base_uri": "https://localhost:8080/",
          "height": 181
        }
      },
      "source": [
        "y.labels_"
      ],
      "execution_count": 0,
      "outputs": [
        {
          "output_type": "execute_result",
          "data": {
            "text/plain": [
              "array([2, 1, 1, 2, 2, 1, 0, 1, 0, 0, 0, 1, 1, 1, 2, 2, 2, 2, 0, 1, 2, 1,\n",
              "       2, 1, 0, 2, 2, 2, 0, 2, 0, 1, 1, 1, 2, 2, 2, 0, 2, 0, 2, 2, 2, 1,\n",
              "       2, 1, 2, 2, 0, 1, 0, 0, 1, 1, 1, 1, 1, 1, 2, 2, 2, 1, 2, 1, 0, 1,\n",
              "       0, 0, 1, 0, 0, 2, 1, 1, 2, 0, 1, 1, 2, 0, 1, 1, 0, 0, 2, 1, 0, 1,\n",
              "       2, 1, 2, 0, 2, 1, 0, 0, 2, 1, 1, 0, 1, 0, 1, 0, 0, 0, 1, 2, 1, 2,\n",
              "       1, 2, 2, 0, 2, 0, 1, 1, 2, 0, 2, 1, 1, 0, 0, 0, 2, 1, 2, 2, 2, 1,\n",
              "       1, 1, 2, 1, 2, 0, 1, 0, 2, 0, 0, 2, 1, 0, 2, 1, 1, 0, 0, 1, 2, 1,\n",
              "       1, 1, 1, 0, 1, 0, 0, 1, 0, 1, 0, 0, 1, 0, 1, 0, 1, 1, 1, 0, 2, 0,\n",
              "       0, 2, 2, 0, 0, 0, 0], dtype=int32)"
            ]
          },
          "metadata": {
            "tags": []
          },
          "execution_count": 34
        }
      ]
    },
    {
      "cell_type": "code",
      "metadata": {
        "id": "2r7euKsVxBBP",
        "colab_type": "code",
        "outputId": "8cd6b1f2-8ddc-47f3-c85b-a9655b2f5efd",
        "colab": {
          "base_uri": "https://localhost:8080/",
          "height": 181
        }
      },
      "source": [
        "y.predict(xKmean)"
      ],
      "execution_count": 0,
      "outputs": [
        {
          "output_type": "execute_result",
          "data": {
            "text/plain": [
              "array([2, 1, 1, 2, 2, 1, 0, 1, 0, 0, 0, 1, 1, 1, 2, 2, 2, 2, 0, 1, 2, 1,\n",
              "       2, 1, 0, 2, 2, 2, 0, 2, 0, 1, 1, 1, 2, 2, 2, 0, 2, 0, 2, 2, 2, 1,\n",
              "       2, 1, 2, 2, 0, 1, 0, 0, 1, 1, 1, 1, 1, 1, 2, 2, 2, 1, 2, 1, 0, 1,\n",
              "       0, 0, 1, 0, 0, 2, 1, 1, 2, 0, 1, 1, 2, 0, 1, 1, 0, 0, 2, 1, 0, 1,\n",
              "       2, 1, 2, 0, 2, 1, 0, 0, 2, 1, 1, 0, 1, 0, 1, 0, 0, 0, 1, 2, 1, 2,\n",
              "       1, 2, 2, 0, 2, 0, 1, 1, 2, 0, 2, 1, 1, 0, 0, 0, 2, 1, 2, 2, 2, 1,\n",
              "       1, 1, 2, 1, 2, 0, 1, 0, 2, 0, 0, 2, 1, 0, 2, 1, 1, 0, 0, 1, 2, 1,\n",
              "       1, 1, 1, 0, 1, 0, 0, 1, 0, 1, 0, 0, 1, 0, 1, 0, 1, 1, 1, 0, 2, 0,\n",
              "       0, 2, 2, 0, 0, 0, 0], dtype=int32)"
            ]
          },
          "metadata": {
            "tags": []
          },
          "execution_count": 35
        }
      ]
    },
    {
      "cell_type": "code",
      "metadata": {
        "id": "jcsdsY8axpAB",
        "colab_type": "code",
        "outputId": "adeac76c-9b07-42de-b4d1-0d77b9e56400",
        "colab": {
          "base_uri": "https://localhost:8080/",
          "height": 72
        }
      },
      "source": [
        "ytest.values"
      ],
      "execution_count": 0,
      "outputs": [
        {
          "output_type": "execute_result",
          "data": {
            "text/plain": [
              "array([0, 2, 2, 1, 2, 1, 1, 1, 0, 1, 1, 2, 0, 1, 1, 1, 1, 1, 1, 1, 2, 1,\n",
              "       1, 1, 0, 0, 1, 1, 1, 1, 1, 2, 1, 2, 1, 1, 0, 1, 0, 0, 0, 1, 2, 1,\n",
              "       0, 1, 1, 1, 1, 1, 1, 1, 2, 1, 1])"
            ]
          },
          "metadata": {
            "tags": []
          },
          "execution_count": 36
        }
      ]
    },
    {
      "cell_type": "code",
      "metadata": {
        "id": "ZeATNe16yCKI",
        "colab_type": "code",
        "colab": {}
      },
      "source": [
        "from sklearn.metrics import confusion_matrix"
      ],
      "execution_count": 0,
      "outputs": []
    },
    {
      "cell_type": "code",
      "metadata": {
        "id": "gEm9uhD7yJPD",
        "colab_type": "code",
        "outputId": "62329e2f-13bb-41f6-e04a-a039282590a6",
        "colab": {
          "base_uri": "https://localhost:8080/",
          "height": 72
        }
      },
      "source": [
        "cm=confusion_matrix(y.predict(xtest),ytest)\n",
        "cm"
      ],
      "execution_count": 0,
      "outputs": [
        {
          "output_type": "execute_result",
          "data": {
            "text/plain": [
              "array([[ 5,  7,  2],\n",
              "       [ 3, 12,  3],\n",
              "       [ 2, 17,  4]])"
            ]
          },
          "metadata": {
            "tags": []
          },
          "execution_count": 38
        }
      ]
    },
    {
      "cell_type": "code",
      "metadata": {
        "id": "emkLe92jyXgO",
        "colab_type": "code",
        "colab": {}
      },
      "source": [
        "from mlxtend.plotting import plot_decision_regions as decision_regions"
      ],
      "execution_count": 0,
      "outputs": []
    },
    {
      "cell_type": "code",
      "metadata": {
        "id": "23s3UXBVy25E",
        "colab_type": "code",
        "outputId": "1bfc65c6-9603-4f77-b627-0413647aaac0",
        "colab": {
          "base_uri": "https://localhost:8080/",
          "height": 356
        }
      },
      "source": [
        "fig = decision_regions(xKmean, df['TYPE'].values, clf=model, legend=1)\n",
        "plt.xlabel('dead')\n",
        "plt.ylabel('recover')"
      ],
      "execution_count": 0,
      "outputs": [
        {
          "output_type": "stream",
          "text": [
            "/usr/local/lib/python3.6/dist-packages/mlxtend/plotting/decision_regions.py:244: MatplotlibDeprecationWarning: Passing unsupported keyword arguments to axis() will raise a TypeError in 3.3.\n",
            "  ax.axis(xmin=xx.min(), xmax=xx.max(), y_min=yy.min(), y_max=yy.max())\n"
          ],
          "name": "stderr"
        },
        {
          "output_type": "execute_result",
          "data": {
            "text/plain": [
              "Text(0, 0.5, 'recover')"
            ]
          },
          "metadata": {
            "tags": []
          },
          "execution_count": 42
        },
        {
          "output_type": "display_data",
          "data": {
            "image/png": "[encoded data removed]",
            "text/plain": [
              "<Figure size 432x288 with 1 Axes>"
            ]
          },
          "metadata": {
            "tags": [],
            "needs_background": "light"
          }
        }
      ]
    },
    {
      "cell_type": "code",
      "metadata": {
        "id": "KuyyyJ-19AKA",
        "colab_type": "code",
        "colab": {}
      },
      "source": [
        "result=pd.DataFrame()\n",
        "result['id']=df['id']\n",
        "result['real']=df['TYPE']\n",
        "result['predict']=y.predict(xKmean)\n",
        "\n",
        "result=pd.merge(result,df[['id','country']],on='id')\n",
        "\n",
        "result.to_csv('resultKmeans.csv', index=False)"
      ],
      "execution_count": 0,
      "outputs": []
    },
    {
      "cell_type": "code",
      "metadata": {
        "id": "b7S8C_YzzE1b",
        "colab_type": "code",
        "colab": {}
      },
      "source": [
        "from sklearn.cluster import AgglomerativeClustering"
      ],
      "execution_count": 0,
      "outputs": []
    },
    {
      "cell_type": "code",
      "metadata": {
        "id": "cNbp6NxazvFX",
        "colab_type": "code",
        "colab": {}
      },
      "source": [
        "cluster=AgglomerativeClustering(n_clusters=3,affinity='euclidean',linkage='ward')"
      ],
      "execution_count": 0,
      "outputs": []
    },
    {
      "cell_type": "code",
      "metadata": {
        "id": "saSe5d4Hz_ky",
        "colab_type": "code",
        "colab": {}
      },
      "source": [
        "xAggr=df.iloc[:,6:8].values\n",
        "cluster=cluster.fit(xAggr)\n"
      ],
      "execution_count": 0,
      "outputs": []
    },
    {
      "cell_type": "code",
      "metadata": {
        "id": "iZQwePdT0zyU",
        "colab_type": "code",
        "outputId": "47d0eba5-fbdf-40a5-83a9-33c957cab0b2",
        "colab": {
          "base_uri": "https://localhost:8080/",
          "height": 299
        }
      },
      "source": [
        "plt.scatter(xAggr[:, 0], xAggr[:, 1], c=cluster.labels_)\n",
        "plt.title(\"K=3\")"
      ],
      "execution_count": 0,
      "outputs": [
        {
          "output_type": "execute_result",
          "data": {
            "text/plain": [
              "Text(0.5, 1.0, 'K=3')"
            ]
          },
          "metadata": {
            "tags": []
          },
          "execution_count": 62
        },
        {
          "output_type": "display_data",
          "data": {
            "image/png": "[encoded data removed]",
            "text/plain": [
              "<Figure size 432x288 with 1 Axes>"
            ]
          },
          "metadata": {
            "tags": [],
            "needs_background": "light"
          }
        }
      ]
    },
    {
      "cell_type": "code",
      "metadata": {
        "id": "X_XeCZ7E03uI",
        "colab_type": "code",
        "outputId": "7094479a-8b42-44fd-9015-fd8a708ff55b",
        "colab": {
          "base_uri": "https://localhost:8080/",
          "height": 181
        }
      },
      "source": [
        "cluster.fit_predict(xAggr)"
      ],
      "execution_count": 0,
      "outputs": [
        {
          "output_type": "execute_result",
          "data": {
            "text/plain": [
              "array([2, 0, 0, 2, 2, 0, 1, 0, 0, 1, 1, 0, 0, 0, 0, 2, 2, 2, 1, 0, 2, 0,\n",
              "       2, 0, 1, 2, 2, 2, 0, 2, 1, 0, 0, 0, 2, 2, 2, 1, 2, 1, 2, 2, 2, 0,\n",
              "       2, 0, 2, 2, 1, 0, 1, 0, 0, 0, 0, 0, 0, 0, 2, 2, 0, 0, 2, 0, 1, 0,\n",
              "       0, 1, 0, 1, 1, 2, 0, 0, 2, 1, 0, 0, 2, 1, 0, 0, 1, 0, 2, 0, 1, 0,\n",
              "       2, 0, 2, 1, 2, 0, 0, 1, 2, 0, 0, 1, 0, 1, 0, 1, 1, 1, 0, 2, 0, 2,\n",
              "       0, 2, 2, 1, 2, 1, 0, 0, 2, 1, 2, 0, 0, 1, 1, 1, 2, 0, 2, 2, 2, 0,\n",
              "       0, 0, 2, 0, 2, 1, 0, 0, 2, 1, 1, 2, 0, 1, 2, 0, 0, 0, 0, 0, 2, 0,\n",
              "       0, 0, 0, 1, 0, 0, 1, 0, 0, 0, 1, 1, 0, 1, 0, 1, 0, 0, 0, 1, 2, 1,\n",
              "       1, 2, 2, 1, 1, 1, 1])"
            ]
          },
          "metadata": {
            "tags": []
          },
          "execution_count": 63
        }
      ]
    },
    {
      "cell_type": "code",
      "metadata": {
        "id": "qB-2js931wXh",
        "colab_type": "code",
        "outputId": "62257283-905b-4f50-ef0c-7cfe02eb6928",
        "colab": {
          "base_uri": "https://localhost:8080/",
          "height": 72
        }
      },
      "source": [
        "cm=confusion_matrix(df['TYPE'],cluster.fit_predict(xAggr))\n",
        "cm"
      ],
      "execution_count": 0,
      "outputs": [
        {
          "output_type": "execute_result",
          "data": {
            "text/plain": [
              "array([[14, 11, 13],\n",
              "       [57, 30, 33],\n",
              "       [11,  7,  7]])"
            ]
          },
          "metadata": {
            "tags": []
          },
          "execution_count": 51
        }
      ]
    },
    {
      "cell_type": "code",
      "metadata": {
        "id": "4Bho3Zq33z2W",
        "colab_type": "code",
        "outputId": "40ce9b87-b7ed-437f-aaf2-22a53d06d38c",
        "colab": {
          "base_uri": "https://localhost:8080/",
          "height": 181
        }
      },
      "source": [
        "df['TYPE'].values"
      ],
      "execution_count": 0,
      "outputs": [
        {
          "output_type": "execute_result",
          "data": {
            "text/plain": [
              "array([0, 1, 2, 1, 1, 1, 1, 1, 1, 1, 1, 1, 2, 2, 1, 0, 1, 1, 2, 1, 1, 0,\n",
              "       1, 0, 1, 2, 1, 1, 0, 1, 1, 1, 0, 1, 0, 2, 1, 1, 1, 1, 1, 0, 1, 1,\n",
              "       1, 1, 0, 2, 0, 1, 2, 1, 1, 0, 2, 1, 1, 1, 1, 2, 1, 1, 1, 1, 1, 0,\n",
              "       1, 2, 1, 1, 0, 0, 2, 1, 1, 1, 1, 1, 1, 1, 1, 1, 1, 1, 1, 1, 0, 1,\n",
              "       0, 1, 1, 2, 0, 2, 1, 1, 1, 1, 1, 1, 1, 0, 1, 1, 1, 0, 2, 0, 1, 1,\n",
              "       2, 0, 1, 1, 1, 1, 0, 0, 2, 1, 1, 1, 1, 0, 1, 1, 1, 0, 1, 2, 1, 1,\n",
              "       1, 1, 1, 1, 1, 2, 1, 1, 2, 2, 1, 0, 1, 1, 1, 0, 0, 0, 1, 1, 0, 1,\n",
              "       2, 2, 1, 1, 1, 0, 1, 1, 0, 1, 0, 1, 1, 0, 2, 0, 1, 1, 1, 0, 0, 1,\n",
              "       1, 1, 1, 2, 0, 1, 1])"
            ]
          },
          "metadata": {
            "tags": []
          },
          "execution_count": 52
        }
      ]
    },
    {
      "cell_type": "code",
      "metadata": {
        "id": "eo82NBpl-ok8",
        "colab_type": "code",
        "colab": {}
      },
      "source": [
        "result=pd.DataFrame()\n",
        "result['id']=df['id']\n",
        "result['real']=df['TYPE']\n",
        "result['predict']=cluster.fit_predict(xAggr)\n",
        "\n",
        "result=pd.merge(result,df[['id','country']],on='id')\n",
        "\n",
        "result.to_csv('resultAgg.csv', index=False)"
      ],
      "execution_count": 0,
      "outputs": []
    },
    {
      "cell_type": "code",
      "metadata": {
        "id": "CpppM_Yo36T-",
        "colab_type": "code",
        "colab": {}
      },
      "source": [
        "from scipy.cluster.hierarchy import dendrogram,linkage"
      ],
      "execution_count": 0,
      "outputs": []
    },
    {
      "cell_type": "code",
      "metadata": {
        "id": "_qvfIOUQ5EPd",
        "colab_type": "code",
        "outputId": "4bd7a52f-dc8f-443c-9d0f-11f7c13f25f3",
        "colab": {
          "base_uri": "https://localhost:8080/",
          "height": 265
        }
      },
      "source": [
        "dendrogram(linkage(xAggr,'ward'));"
      ],
      "execution_count": 0,
      "outputs": [
        {
          "output_type": "display_data",
          "data": {
            "image/png": "[encoded data removed]",
            "text/plain": [
              "<Figure size 432x288 with 1 Axes>"
            ]
          },
          "metadata": {
            "tags": [],
            "needs_background": "light"
          }
        }
      ]
    },
    {
      "cell_type": "code",
      "metadata": {
        "id": "gcK1DnE45Q9t",
        "colab_type": "code",
        "outputId": "79d3870c-35e8-4b58-a082-9c77821d4b77",
        "colab": {
          "base_uri": "https://localhost:8080/",
          "height": 265
        }
      },
      "source": [
        "dendrogram(linkage(xAggr,'complete'));"
      ],
      "execution_count": 0,
      "outputs": [
        {
          "output_type": "display_data",
          "data": {
            "image/png": "[encoded data removed]",
            "text/plain": [
              "<Figure size 432x288 with 1 Axes>"
            ]
          },
          "metadata": {
            "tags": [],
            "needs_background": "light"
          }
        }
      ]
    },
    {
      "cell_type": "code",
      "metadata": {
        "id": "l_vosT9p56G6",
        "colab_type": "code",
        "outputId": "8da3f9f2-4a63-451c-e0eb-fa3182b0c587",
        "colab": {
          "base_uri": "https://localhost:8080/",
          "height": 265
        }
      },
      "source": [
        "dendrogram(linkage(xAggr,'single'));"
      ],
      "execution_count": 0,
      "outputs": [
        {
          "output_type": "display_data",
          "data": {
            "image/png": "[encoded data removed]",
            "text/plain": [
              "<Figure size 432x288 with 1 Axes>"
            ]
          },
          "metadata": {
            "tags": [],
            "needs_background": "light"
          }
        }
      ]
    },
    {
      "cell_type": "code",
      "metadata": {
        "id": "kNaXAHFG58jN",
        "colab_type": "code",
        "outputId": "239a979c-2d33-4ecb-f5e6-fe790e0e02c8",
        "colab": {
          "base_uri": "https://localhost:8080/",
          "height": 265
        }
      },
      "source": [
        "dendrogram(linkage(xAggr,'average'));"
      ],
      "execution_count": 0,
      "outputs": [
        {
          "output_type": "display_data",
          "data": {
            "image/png": "[encoded data removed]",
            "text/plain": [
              "<Figure size 432x288 with 1 Axes>"
            ]
          },
          "metadata": {
            "tags": [],
            "needs_background": "light"
          }
        }
      ]
    },
    {
      "cell_type": "code",
      "metadata": {
        "id": "kW0aOqQl5_iM",
        "colab_type": "code",
        "colab": {}
      },
      "source": [
        ""
      ],
      "execution_count": 0,
      "outputs": []
    },
    {
      "cell_type": "code",
      "metadata": {
        "id": "Rz18m-wb61Xd",
        "colab_type": "code",
        "colab": {}
      },
      "source": [
        "from google.colab import drive\n",
        "drive.mount('/content/drive')"
      ],
      "execution_count": 0,
      "outputs": []
    }
  ]
}