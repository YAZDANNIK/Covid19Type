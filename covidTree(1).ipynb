{
  "nbformat": 4,
  "nbformat_minor": 0,
  "metadata": {
    "colab": {
      "name": "covidTree.ipynb",
      "provenance": [],
      "collapsed_sections": []
    },
    "kernelspec": {
      "name": "python3",
      "display_name": "Python 3"
    }
  },
  "cells": [
    {
      "cell_type": "code",
      "metadata": {
        "id": "XimGxxFhjN22",
        "colab_type": "code",
        "outputId": "d71f242f-885d-47f3-91de-1c188aeca532",
        "colab": {
          "base_uri": "https://localhost:8080/",
          "height": 201
        }
      },
      "source": [
        "!pip install covid"
      ],
      "execution_count": 0,
      "outputs": [
        {
          "output_type": "stream",
          "text": [
            "Requirement already satisfied: covid in /usr/local/lib/python3.6/dist-packages (2.2.6)\n",
            "Requirement already satisfied: pydantic in /usr/local/lib/python3.6/dist-packages (from covid) (1.5.1)\n",
            "Requirement already satisfied: requests in /usr/local/lib/python3.6/dist-packages (from covid) (2.23.0)\n",
            "Requirement already satisfied: beautifulsoup4 in /usr/local/lib/python3.6/dist-packages (from covid) (4.6.3)\n",
            "Requirement already satisfied: dataclasses>=0.6; python_version < \"3.7\" in /usr/local/lib/python3.6/dist-packages (from pydantic->covid) (0.7)\n",
            "Requirement already satisfied: idna<3,>=2.5 in /usr/local/lib/python3.6/dist-packages (from requests->covid) (2.9)\n",
            "Requirement already satisfied: urllib3!=1.25.0,!=1.25.1,<1.26,>=1.21.1 in /usr/local/lib/python3.6/dist-packages (from requests->covid) (1.24.3)\n",
            "Requirement already satisfied: certifi>=2017.4.17 in /usr/local/lib/python3.6/dist-packages (from requests->covid) (2020.4.5.1)\n",
            "Requirement already satisfied: chardet<4,>=3.0.2 in /usr/local/lib/python3.6/dist-packages (from requests->covid) (3.0.4)\n"
          ],
          "name": "stdout"
        }
      ]
    },
    {
      "cell_type": "code",
      "metadata": {
        "id": "GKrM6iCjjzKc",
        "colab_type": "code",
        "colab": {}
      },
      "source": [
        "from covid import Covid\n",
        "\n",
        "covid = Covid()\n",
        "data=covid.get_data()\n"
      ],
      "execution_count": 0,
      "outputs": []
    },
    {
      "cell_type": "code",
      "metadata": {
        "id": "I4fQcKuxkkzi",
        "colab_type": "code",
        "colab": {}
      },
      "source": [
        "import csv"
      ],
      "execution_count": 0,
      "outputs": []
    },
    {
      "cell_type": "code",
      "metadata": {
        "id": "If9n5MKwmUPj",
        "colab_type": "code",
        "colab": {}
      },
      "source": [
        "csvfile=open('covid.csv','w', newline='') \n",
        "fields=list(data[0].keys())\n",
        "obj=csv.DictWriter(csvfile, fieldnames=fields)\t      \n",
        "obj.writeheader()\t      \n",
        "obj.writerows(data)\t      \n",
        "csvfile.close()"
      ],
      "execution_count": 0,
      "outputs": []
    },
    {
      "cell_type": "code",
      "metadata": {
        "id": "HtFYVMbNo8_u",
        "colab_type": "code",
        "colab": {}
      },
      "source": [
        "import pandas as pd\n",
        "import numpy as np\n",
        "import matplotlib.pyplot as plt\n",
        "from sklearn.model_selection import train_test_split\n",
        "from matplotlib.colors import ListedColormap\n",
        "from sklearn.tree import DecisionTreeClassifier\n",
        "from sklearn import tree\n",
        "from mlxtend.plotting import plot_decision_regions as decision_regions"
      ],
      "execution_count": 0,
      "outputs": []
    },
    {
      "cell_type": "code",
      "metadata": {
        "id": "7UbVmja9p5wo",
        "colab_type": "code",
        "colab": {}
      },
      "source": [
        "df=pd.read_csv(\"covid.csv\")\n",
        "olddf=pd.read_csv(\"COVIDTYPE.csv\")\n"
      ],
      "execution_count": 0,
      "outputs": []
    },
    {
      "cell_type": "code",
      "metadata": {
        "id": "DVWGLyilsLB6",
        "colab_type": "code",
        "colab": {}
      },
      "source": [
        "df['confirmed'].fillna(df['active']+df['deaths']+df['recovered'],inplace=True)\n",
        "df['active'].fillna(df['confirmed']-(df['deaths']+df['recovered']),inplace=True)\n",
        "df['deaths'].fillna(df['confirmed']-(df['active']+df['recovered']),inplace=True)\n",
        "df['recovered'].fillna(df['confirmed']-(df['active']+df['deaths']),inplace=True)\n",
        "deathpercent=(df['deaths']/df['confirmed'])*100\n",
        "recoverpercent=(df['recovered']/df['confirmed'])*100\n",
        "df['deathpercent']=deathpercent\n",
        "df['recoverpercent']=recoverpercent"
      ],
      "execution_count": 0,
      "outputs": []
    },
    {
      "cell_type": "code",
      "metadata": {
        "id": "o0G-s5SeqK9X",
        "colab_type": "code",
        "colab": {}
      },
      "source": [
        "df = pd.merge(df,olddf[['id','TYPE']],on='id')\n"
      ],
      "execution_count": 0,
      "outputs": []
    },
    {
      "cell_type": "code",
      "metadata": {
        "id": "w3z1np7JEQhc",
        "colab_type": "code",
        "colab": {}
      },
      "source": [
        "df.to_csv('covid.csv', index=False)"
      ],
      "execution_count": 0,
      "outputs": []
    },
    {
      "cell_type": "code",
      "metadata": {
        "id": "LNfnVqKRp8q1",
        "colab_type": "code",
        "outputId": "e8fe9575-851d-49d7-ca60-4aebfa84cf7e",
        "colab": {
          "base_uri": "https://localhost:8080/",
          "height": 513
        }
      },
      "source": [
        "df = df.drop('last_update', axis=1)\n",
        "df=df.drop('latitude', axis=1)\n",
        "df=df.drop('longitude', axis=1)\n",
        "df"
      ],
      "execution_count": 0,
      "outputs": [
        {
          "output_type": "execute_result",
          "data": {
            "text/html": [
              "<div>\n",
              "<style scoped>\n",
              "    .dataframe tbody tr th:only-of-type {\n",
              "        vertical-align: middle;\n",
              "    }\n",
              "\n",
              "    .dataframe tbody tr th {\n",
              "        vertical-align: top;\n",
              "    }\n",
              "\n",
              "    .dataframe thead th {\n",
              "        text-align: right;\n",
              "    }\n",
              "</style>\n",
              "<table border=\"1\" class=\"dataframe\">\n",
              "  <thead>\n",
              "    <tr style=\"text-align: right;\">\n",
              "      <th></th>\n",
              "      <th>id</th>\n",
              "      <th>country</th>\n",
              "      <th>confirmed</th>\n",
              "      <th>active</th>\n",
              "      <th>deaths</th>\n",
              "      <th>recovered</th>\n",
              "      <th>deathpercent</th>\n",
              "      <th>recoverpercent</th>\n",
              "      <th>TYPE</th>\n",
              "    </tr>\n",
              "  </thead>\n",
              "  <tbody>\n",
              "    <tr>\n",
              "      <th>0</th>\n",
              "      <td>18</td>\n",
              "      <td>US</td>\n",
              "      <td>1256972</td>\n",
              "      <td>1010344</td>\n",
              "      <td>75670</td>\n",
              "      <td>195036</td>\n",
              "      <td>6.020023</td>\n",
              "      <td>15.516336</td>\n",
              "      <td>A</td>\n",
              "    </tr>\n",
              "    <tr>\n",
              "      <th>1</th>\n",
              "      <td>162</td>\n",
              "      <td>Spain</td>\n",
              "      <td>221447</td>\n",
              "      <td>66866</td>\n",
              "      <td>26070</td>\n",
              "      <td>128511</td>\n",
              "      <td>11.772569</td>\n",
              "      <td>58.032396</td>\n",
              "      <td>B</td>\n",
              "    </tr>\n",
              "    <tr>\n",
              "      <th>2</th>\n",
              "      <td>11</td>\n",
              "      <td>Italy</td>\n",
              "      <td>215858</td>\n",
              "      <td>89624</td>\n",
              "      <td>29958</td>\n",
              "      <td>96276</td>\n",
              "      <td>13.878568</td>\n",
              "      <td>44.601544</td>\n",
              "      <td>C</td>\n",
              "    </tr>\n",
              "    <tr>\n",
              "      <th>3</th>\n",
              "      <td>17</td>\n",
              "      <td>United Kingdom</td>\n",
              "      <td>207977</td>\n",
              "      <td>176318</td>\n",
              "      <td>30689</td>\n",
              "      <td>970</td>\n",
              "      <td>14.755959</td>\n",
              "      <td>0.466398</td>\n",
              "      <td>B</td>\n",
              "    </tr>\n",
              "    <tr>\n",
              "      <th>4</th>\n",
              "      <td>14</td>\n",
              "      <td>Russia</td>\n",
              "      <td>187859</td>\n",
              "      <td>159528</td>\n",
              "      <td>1723</td>\n",
              "      <td>26608</td>\n",
              "      <td>0.917177</td>\n",
              "      <td>14.163814</td>\n",
              "      <td>B</td>\n",
              "    </tr>\n",
              "    <tr>\n",
              "      <th>...</th>\n",
              "      <td>...</td>\n",
              "      <td>...</td>\n",
              "      <td>...</td>\n",
              "      <td>...</td>\n",
              "      <td>...</td>\n",
              "      <td>...</td>\n",
              "      <td>...</td>\n",
              "      <td>...</td>\n",
              "      <td>...</td>\n",
              "    </tr>\n",
              "    <tr>\n",
              "      <th>179</th>\n",
              "      <td>53</td>\n",
              "      <td>Comoros</td>\n",
              "      <td>8</td>\n",
              "      <td>7</td>\n",
              "      <td>1</td>\n",
              "      <td>0</td>\n",
              "      <td>12.500000</td>\n",
              "      <td>0.000000</td>\n",
              "      <td>B</td>\n",
              "    </tr>\n",
              "    <tr>\n",
              "      <th>180</th>\n",
              "      <td>118</td>\n",
              "      <td>Mauritania</td>\n",
              "      <td>8</td>\n",
              "      <td>1</td>\n",
              "      <td>1</td>\n",
              "      <td>6</td>\n",
              "      <td>12.500000</td>\n",
              "      <td>75.000000</td>\n",
              "      <td>C</td>\n",
              "    </tr>\n",
              "    <tr>\n",
              "      <th>181</th>\n",
              "      <td>137</td>\n",
              "      <td>Papua New Guinea</td>\n",
              "      <td>8</td>\n",
              "      <td>0</td>\n",
              "      <td>0</td>\n",
              "      <td>8</td>\n",
              "      <td>0.000000</td>\n",
              "      <td>100.000000</td>\n",
              "      <td>A</td>\n",
              "    </tr>\n",
              "    <tr>\n",
              "      <th>182</th>\n",
              "      <td>36</td>\n",
              "      <td>Bhutan</td>\n",
              "      <td>7</td>\n",
              "      <td>2</td>\n",
              "      <td>0</td>\n",
              "      <td>5</td>\n",
              "      <td>0.000000</td>\n",
              "      <td>71.428571</td>\n",
              "      <td>B</td>\n",
              "    </tr>\n",
              "    <tr>\n",
              "      <th>183</th>\n",
              "      <td>184</td>\n",
              "      <td>Western Sahara</td>\n",
              "      <td>6</td>\n",
              "      <td>1</td>\n",
              "      <td>0</td>\n",
              "      <td>5</td>\n",
              "      <td>0.000000</td>\n",
              "      <td>83.333333</td>\n",
              "      <td>B</td>\n",
              "    </tr>\n",
              "  </tbody>\n",
              "</table>\n",
              "<p>184 rows × 9 columns</p>\n",
              "</div>"
            ],
            "text/plain": [
              "      id           country  confirmed  ...  deathpercent  recoverpercent  TYPE\n",
              "0     18                US    1256972  ...      6.020023       15.516336     A\n",
              "1    162             Spain     221447  ...     11.772569       58.032396     B\n",
              "2     11             Italy     215858  ...     13.878568       44.601544     C\n",
              "3     17    United Kingdom     207977  ...     14.755959        0.466398     B\n",
              "4     14            Russia     187859  ...      0.917177       14.163814     B\n",
              "..   ...               ...        ...  ...           ...             ...   ...\n",
              "179   53           Comoros          8  ...     12.500000        0.000000     B\n",
              "180  118        Mauritania          8  ...     12.500000       75.000000     C\n",
              "181  137  Papua New Guinea          8  ...      0.000000      100.000000     A\n",
              "182   36            Bhutan          7  ...      0.000000       71.428571     B\n",
              "183  184    Western Sahara          6  ...      0.000000       83.333333     B\n",
              "\n",
              "[184 rows x 9 columns]"
            ]
          },
          "metadata": {
            "tags": []
          },
          "execution_count": 22
        }
      ]
    },
    {
      "cell_type": "code",
      "metadata": {
        "id": "0xiTcW5TqYcY",
        "colab_type": "code",
        "colab": {}
      },
      "source": [
        "df = df[pd.notnull(df['TYPE'])]\n",
        "#df.isnull().sum()"
      ],
      "execution_count": 0,
      "outputs": []
    },
    {
      "cell_type": "code",
      "metadata": {
        "id": "9TiJIwVZrelr",
        "colab_type": "code",
        "outputId": "6451cd17-a690-44f0-bf48-770bba862363",
        "colab": {
          "base_uri": "https://localhost:8080/",
          "height": 146
        }
      },
      "source": [
        "df.TYPE=df.TYPE.apply(['A','B','C'].index)"
      ],
      "execution_count": 0,
      "outputs": [
        {
          "output_type": "stream",
          "text": [
            "/usr/local/lib/python3.6/dist-packages/pandas/core/generic.py:5303: SettingWithCopyWarning: \n",
            "A value is trying to be set on a copy of a slice from a DataFrame.\n",
            "Try using .loc[row_indexer,col_indexer] = value instead\n",
            "\n",
            "See the caveats in the documentation: https://pandas.pydata.org/pandas-docs/stable/user_guide/indexing.html#returning-a-view-versus-a-copy\n",
            "  self[name] = value\n"
          ],
          "name": "stderr"
        }
      ]
    },
    {
      "cell_type": "code",
      "metadata": {
        "id": "H_Tm3nYnsvrI",
        "colab_type": "code",
        "colab": {}
      },
      "source": [
        "from sklearn.feature_selection import SelectFromModel"
      ],
      "execution_count": 0,
      "outputs": []
    },
    {
      "cell_type": "code",
      "metadata": {
        "id": "3ZrzColtsS-G",
        "colab_type": "code",
        "colab": {}
      },
      "source": [
        "X = df.iloc[:,2:8].values  \n",
        "Xnew = df.iloc[:,6:8].values    "
      ],
      "execution_count": 0,
      "outputs": []
    },
    {
      "cell_type": "code",
      "metadata": {
        "id": "A8P3NvvfupSI",
        "colab_type": "code",
        "colab": {}
      },
      "source": [
        "from sklearn import tree"
      ],
      "execution_count": 0,
      "outputs": []
    },
    {
      "cell_type": "code",
      "metadata": {
        "id": "XfTPP-gsvOW5",
        "colab_type": "code",
        "outputId": "3fc37e4b-247b-49a6-93d8-60d8ed141687",
        "colab": {
          "base_uri": "https://localhost:8080/",
          "height": 53
        }
      },
      "source": [
        "clf=tree.DecisionTreeClassifier(criterion='entropy',random_state=1,max_depth=4)\n",
        "clf=clf.fit(X,df['TYPE'])\n",
        "clf.feature_importances_"
      ],
      "execution_count": 0,
      "outputs": [
        {
          "output_type": "execute_result",
          "data": {
            "text/plain": [
              "array([0.11751296, 0.        , 0.15392652, 0.24047279, 0.29663523,\n",
              "       0.1914525 ])"
            ]
          },
          "metadata": {
            "tags": []
          },
          "execution_count": 28
        }
      ]
    },
    {
      "cell_type": "code",
      "metadata": {
        "id": "RNlVa9Drvek5",
        "colab_type": "code",
        "outputId": "4575fffe-c0f0-43d4-bfa8-c9feb5cacb1c",
        "colab": {
          "base_uri": "https://localhost:8080/",
          "height": 35
        }
      },
      "source": [
        "model=SelectFromModel(clf,prefit=True)\n",
        "XnewTree=model.transform(X)\n",
        "XnewTree.shape"
      ],
      "execution_count": 0,
      "outputs": [
        {
          "output_type": "execute_result",
          "data": {
            "text/plain": [
              "(183, 3)"
            ]
          },
          "metadata": {
            "tags": []
          },
          "execution_count": 29
        }
      ]
    },
    {
      "cell_type": "code",
      "metadata": {
        "id": "Ime3I-P1v6Ps",
        "colab_type": "code",
        "colab": {}
      },
      "source": [
        "xtrain,xtest,ytrain,ytest=train_test_split(Xnew,df['TYPE'],test_size=0.3,random_state=1)"
      ],
      "execution_count": 0,
      "outputs": []
    },
    {
      "cell_type": "code",
      "metadata": {
        "id": "DOLlRtOtux51",
        "colab_type": "code",
        "colab": {}
      },
      "source": [
        "model=tree.DecisionTreeClassifier(criterion='entropy',random_state=1,max_depth=4)\n",
        "model=model.fit(xtrain,ytrain)\n",
        "y=model.predict(xtest)"
      ],
      "execution_count": 0,
      "outputs": []
    },
    {
      "cell_type": "code",
      "metadata": {
        "id": "DUDlUsnivLZx",
        "colab_type": "code",
        "outputId": "1e7747d3-699f-438f-be76-45c05b989666",
        "colab": {
          "base_uri": "https://localhost:8080/",
          "height": 248
        }
      },
      "source": [
        "cl=['1','2','3']\n",
        "#fn=['confirmed','active','death','recovered','deathPercent','recoverPercent']\n",
        "fn=['death','recovered','percent']\n",
        "tree.plot_tree(model,\n",
        "               class_names=cl,\n",
        "               feature_names = fn, \n",
        "               filled = True);\n"
      ],
      "execution_count": 0,
      "outputs": [
        {
          "output_type": "display_data",
          "data": {
            "image/png": "[encoded data removed]",
            "text/plain": [
              "<Figure size 432x288 with 1 Axes>"
            ]
          },
          "metadata": {
            "tags": [],
            "needs_background": "light"
          }
        }
      ]
    },
    {
      "cell_type": "code",
      "metadata": {
        "id": "oTvd6DJbvPFc",
        "colab_type": "code",
        "outputId": "e5321f71-e21b-49dd-e221-6462a2942f38",
        "colab": {
          "base_uri": "https://localhost:8080/",
          "height": 283
        }
      },
      "source": [
        "plt.scatter(ytest,y)\n",
        "plt.plot()"
      ],
      "execution_count": 0,
      "outputs": [
        {
          "output_type": "execute_result",
          "data": {
            "text/plain": [
              "[]"
            ]
          },
          "metadata": {
            "tags": []
          },
          "execution_count": 33
        },
        {
          "output_type": "display_data",
          "data": {
            "image/png": "[encoded data removed]",
            "text/plain": [
              "<Figure size 432x288 with 1 Axes>"
            ]
          },
          "metadata": {
            "tags": [],
            "needs_background": "light"
          }
        }
      ]
    },
    {
      "cell_type": "code",
      "metadata": {
        "id": "opTvYQiovevt",
        "colab_type": "code",
        "outputId": "6a04c147-2662-475a-9447-f505c8864aca",
        "colab": {
          "base_uri": "https://localhost:8080/",
          "height": 35
        }
      },
      "source": [
        "model.score(Xnew,df['TYPE'])"
      ],
      "execution_count": 0,
      "outputs": [
        {
          "output_type": "execute_result",
          "data": {
            "text/plain": [
              "0.7158469945355191"
            ]
          },
          "metadata": {
            "tags": []
          },
          "execution_count": 34
        }
      ]
    },
    {
      "cell_type": "code",
      "metadata": {
        "id": "jHpV5yFrvhRW",
        "colab_type": "code",
        "outputId": "3955ee73-92eb-4a33-dd2e-b634772a5858",
        "colab": {
          "base_uri": "https://localhost:8080/",
          "height": 35
        }
      },
      "source": [
        "model.score(xtest,ytest)"
      ],
      "execution_count": 0,
      "outputs": [
        {
          "output_type": "execute_result",
          "data": {
            "text/plain": [
              "0.6545454545454545"
            ]
          },
          "metadata": {
            "tags": []
          },
          "execution_count": 35
        }
      ]
    },
    {
      "cell_type": "code",
      "metadata": {
        "id": "xc--6jnrvmKN",
        "colab_type": "code",
        "outputId": "adff05fa-be8d-4e41-f3ef-e1ceae03cd15",
        "colab": {
          "base_uri": "https://localhost:8080/",
          "height": 35
        }
      },
      "source": [
        "model.score(xtrain,ytrain)"
      ],
      "execution_count": 0,
      "outputs": [
        {
          "output_type": "execute_result",
          "data": {
            "text/plain": [
              "0.7421875"
            ]
          },
          "metadata": {
            "tags": []
          },
          "execution_count": 36
        }
      ]
    },
    {
      "cell_type": "code",
      "metadata": {
        "id": "N_FAF0DFv02U",
        "colab_type": "code",
        "outputId": "cf5ac6dc-e1df-476f-8551-5bcec5ad5be7",
        "colab": {
          "base_uri": "https://localhost:8080/",
          "height": 354
        }
      },
      "source": [
        "fig = decision_regions(xtest, ytest.values, clf=model, legend=1)\n",
        "plt.xlabel('dead')\n",
        "plt.ylabel('recover')"
      ],
      "execution_count": 0,
      "outputs": [
        {
          "output_type": "stream",
          "text": [
            "/usr/local/lib/python3.6/dist-packages/mlxtend/plotting/decision_regions.py:244: MatplotlibDeprecationWarning: Passing unsupported keyword arguments to axis() will raise a TypeError in 3.3.\n",
            "  ax.axis(xmin=xx.min(), xmax=xx.max(), y_min=yy.min(), y_max=yy.max())\n"
          ],
          "name": "stderr"
        },
        {
          "output_type": "execute_result",
          "data": {
            "text/plain": [
              "Text(0, 0.5, 'recover')"
            ]
          },
          "metadata": {
            "tags": []
          },
          "execution_count": 37
        },
        {
          "output_type": "display_data",
          "data": {
            "image/png": "[encoded data removed]",
            "text/plain": [
              "<Figure size 432x288 with 1 Axes>"
            ]
          },
          "metadata": {
            "tags": [],
            "needs_background": "light"
          }
        }
      ]
    },
    {
      "cell_type": "code",
      "metadata": {
        "id": "bAK8pvziv4Tn",
        "colab_type": "code",
        "outputId": "6bbed8d5-359c-4347-e4a7-0e0a19c8b7d0",
        "colab": {
          "base_uri": "https://localhost:8080/",
          "height": 356
        }
      },
      "source": [
        "fig = decision_regions(xtrain, ytrain.values, clf=model, legend=1)\n",
        "plt.xlabel('dead')\n",
        "plt.ylabel('recover')"
      ],
      "execution_count": 0,
      "outputs": [
        {
          "output_type": "stream",
          "text": [
            "/usr/local/lib/python3.6/dist-packages/mlxtend/plotting/decision_regions.py:244: MatplotlibDeprecationWarning: Passing unsupported keyword arguments to axis() will raise a TypeError in 3.3.\n",
            "  ax.axis(xmin=xx.min(), xmax=xx.max(), y_min=yy.min(), y_max=yy.max())\n"
          ],
          "name": "stderr"
        },
        {
          "output_type": "execute_result",
          "data": {
            "text/plain": [
              "Text(0, 0.5, 'recover')"
            ]
          },
          "metadata": {
            "tags": []
          },
          "execution_count": 38
        },
        {
          "output_type": "display_data",
          "data": {
            "image/png": "[encoded data removed]",
            "text/plain": [
              "<Figure size 432x288 with 1 Axes>"
            ]
          },
          "metadata": {
            "tags": [],
            "needs_background": "light"
          }
        }
      ]
    },
    {
      "cell_type": "code",
      "metadata": {
        "id": "x523tjw9OPMN",
        "colab_type": "code",
        "outputId": "ec82a29b-6941-4972-8922-ecee8a18e68f",
        "colab": {
          "base_uri": "https://localhost:8080/",
          "height": 72
        }
      },
      "source": [
        "from sklearn.metrics import confusion_matrix\n",
        "cm=confusion_matrix(ytest,y)\n",
        "cm"
      ],
      "execution_count": 0,
      "outputs": [
        {
          "output_type": "execute_result",
          "data": {
            "text/plain": [
              "array([[ 1,  9,  0],\n",
              "       [ 0, 34,  2],\n",
              "       [ 1,  7,  1]])"
            ]
          },
          "metadata": {
            "tags": []
          },
          "execution_count": 39
        }
      ]
    },
    {
      "cell_type": "code",
      "metadata": {
        "id": "8jOqI9ObMl0H",
        "colab_type": "code",
        "colab": {}
      },
      "source": [
        "result=pd.DataFrame()\n",
        "result['id']=ytest.index\n",
        "result['real']=ytest.values\n",
        "result['predict']=y\n",
        "\n",
        "result=pd.merge(result,df[['id','country']],on='id')\n"
      ],
      "execution_count": 0,
      "outputs": []
    },
    {
      "cell_type": "code",
      "metadata": {
        "id": "GZ9Q7lKxOerV",
        "colab_type": "code",
        "colab": {}
      },
      "source": [
        "result.to_csv('resultTree.csv', index=False)"
      ],
      "execution_count": 0,
      "outputs": []
    },
    {
      "cell_type": "code",
      "metadata": {
        "id": "IqmOb3UUPdG7",
        "colab_type": "code",
        "colab": {}
      },
      "source": [
        "from sklearn.ensemble import RandomForestClassifier\n",
        "rfc=RandomForestClassifier(n_estimators=10000,random_state=1)\n",
        "rfc=rfc.fit(xtrain,ytrain)\n",
        "predic_rfc=rfc.predict(xtest)"
      ],
      "execution_count": 0,
      "outputs": []
    },
    {
      "cell_type": "code",
      "metadata": {
        "id": "2kCyL7dXlvS9",
        "colab_type": "code",
        "outputId": "3eab2f53-341a-4eac-bc23-6ad854bb25ae",
        "colab": {
          "base_uri": "https://localhost:8080/",
          "height": 356
        }
      },
      "source": [
        "fig = decision_regions(xtrain, ytrain.values, clf=model, legend=1)\n",
        "plt.xlabel('dead')\n",
        "plt.ylabel('recover')"
      ],
      "execution_count": 0,
      "outputs": [
        {
          "output_type": "stream",
          "text": [
            "/usr/local/lib/python3.6/dist-packages/mlxtend/plotting/decision_regions.py:244: MatplotlibDeprecationWarning: Passing unsupported keyword arguments to axis() will raise a TypeError in 3.3.\n",
            "  ax.axis(xmin=xx.min(), xmax=xx.max(), y_min=yy.min(), y_max=yy.max())\n"
          ],
          "name": "stderr"
        },
        {
          "output_type": "execute_result",
          "data": {
            "text/plain": [
              "Text(0, 0.5, 'recover')"
            ]
          },
          "metadata": {
            "tags": []
          },
          "execution_count": 43
        },
        {
          "output_type": "display_data",
          "data": {
            "image/png": "[encoded data removed]",
            "text/plain": [
              "<Figure size 432x288 with 1 Axes>"
            ]
          },
          "metadata": {
            "tags": [],
            "needs_background": "light"
          }
        }
      ]
    },
    {
      "cell_type": "code",
      "metadata": {
        "id": "3dhZJ8V_l2hs",
        "colab_type": "code",
        "outputId": "e983a163-504d-4d2b-df63-b98fa7e6580a",
        "colab": {
          "base_uri": "https://localhost:8080/",
          "height": 354
        }
      },
      "source": [
        "fig = decision_regions(xtest, ytest.values, clf=model, legend=1)\n",
        "plt.xlabel('dead')\n",
        "plt.ylabel('recover')"
      ],
      "execution_count": 0,
      "outputs": [
        {
          "output_type": "stream",
          "text": [
            "/usr/local/lib/python3.6/dist-packages/mlxtend/plotting/decision_regions.py:244: MatplotlibDeprecationWarning: Passing unsupported keyword arguments to axis() will raise a TypeError in 3.3.\n",
            "  ax.axis(xmin=xx.min(), xmax=xx.max(), y_min=yy.min(), y_max=yy.max())\n"
          ],
          "name": "stderr"
        },
        {
          "output_type": "execute_result",
          "data": {
            "text/plain": [
              "Text(0, 0.5, 'recover')"
            ]
          },
          "metadata": {
            "tags": []
          },
          "execution_count": 44
        },
        {
          "output_type": "display_data",
          "data": {
            "image/png": "[encoded data removed]",
            "text/plain": [
              "<Figure size 432x288 with 1 Axes>"
            ]
          },
          "metadata": {
            "tags": [],
            "needs_background": "light"
          }
        }
      ]
    },
    {
      "cell_type": "code",
      "metadata": {
        "id": "g1iyeq5pl-YR",
        "colab_type": "code",
        "outputId": "6b9e296f-5a66-463d-85b8-733cfc506680",
        "colab": {
          "base_uri": "https://localhost:8080/",
          "height": 354
        }
      },
      "source": [
        "fig = decision_regions(xtest, predic_rfc, clf=model, legend=1)\n",
        "plt.xlabel('dead')\n",
        "plt.ylabel('recover')"
      ],
      "execution_count": 0,
      "outputs": [
        {
          "output_type": "stream",
          "text": [
            "/usr/local/lib/python3.6/dist-packages/mlxtend/plotting/decision_regions.py:244: MatplotlibDeprecationWarning: Passing unsupported keyword arguments to axis() will raise a TypeError in 3.3.\n",
            "  ax.axis(xmin=xx.min(), xmax=xx.max(), y_min=yy.min(), y_max=yy.max())\n"
          ],
          "name": "stderr"
        },
        {
          "output_type": "execute_result",
          "data": {
            "text/plain": [
              "Text(0, 0.5, 'recover')"
            ]
          },
          "metadata": {
            "tags": []
          },
          "execution_count": 45
        },
        {
          "output_type": "display_data",
          "data": {
            "image/png": "[encoded data removed]",
            "text/plain": [
              "<Figure size 432x288 with 1 Axes>"
            ]
          },
          "metadata": {
            "tags": [],
            "needs_background": "light"
          }
        }
      ]
    },
    {
      "cell_type": "code",
      "metadata": {
        "id": "vFC47gTnmJ2X",
        "colab_type": "code",
        "outputId": "0a039138-1e06-4079-cb89-7e53baeed4e4",
        "colab": {
          "base_uri": "https://localhost:8080/",
          "height": 35
        }
      },
      "source": [
        "rfc.score(xtrain,ytrain)"
      ],
      "execution_count": 0,
      "outputs": [
        {
          "output_type": "execute_result",
          "data": {
            "text/plain": [
              "0.9921875"
            ]
          },
          "metadata": {
            "tags": []
          },
          "execution_count": 46
        }
      ]
    },
    {
      "cell_type": "code",
      "metadata": {
        "id": "bF6YrOI2mOYK",
        "colab_type": "code",
        "outputId": "49a46e5e-21f4-4aa1-8ad3-38477edd4cb5",
        "colab": {
          "base_uri": "https://localhost:8080/",
          "height": 35
        }
      },
      "source": [
        "rfc.score(xtest,ytest)"
      ],
      "execution_count": 0,
      "outputs": [
        {
          "output_type": "execute_result",
          "data": {
            "text/plain": [
              "0.5272727272727272"
            ]
          },
          "metadata": {
            "tags": []
          },
          "execution_count": 47
        }
      ]
    },
    {
      "cell_type": "code",
      "metadata": {
        "id": "exF7EWzTmsX_",
        "colab_type": "code",
        "outputId": "f80abb8c-ed0f-485b-a8ee-8cbfec0566ea",
        "colab": {
          "base_uri": "https://localhost:8080/",
          "height": 72
        }
      },
      "source": [
        "ytest.values"
      ],
      "execution_count": 0,
      "outputs": [
        {
          "output_type": "execute_result",
          "data": {
            "text/plain": [
              "array([0, 2, 2, 1, 2, 1, 1, 1, 0, 1, 1, 2, 0, 1, 1, 1, 1, 1, 1, 1, 2, 1,\n",
              "       1, 1, 0, 0, 1, 1, 1, 1, 1, 2, 1, 2, 1, 1, 0, 1, 0, 0, 0, 1, 2, 1,\n",
              "       0, 1, 1, 1, 1, 1, 1, 1, 2, 1, 1])"
            ]
          },
          "metadata": {
            "tags": []
          },
          "execution_count": 48
        }
      ]
    },
    {
      "cell_type": "code",
      "metadata": {
        "id": "Mjn_7X4xmvSU",
        "colab_type": "code",
        "outputId": "b49a15a9-be91-43f5-a030-4ac3006d0d17",
        "colab": {
          "base_uri": "https://localhost:8080/",
          "height": 72
        }
      },
      "source": [
        "predic_rfc"
      ],
      "execution_count": 0,
      "outputs": [
        {
          "output_type": "execute_result",
          "data": {
            "text/plain": [
              "array([0, 1, 1, 0, 1, 0, 2, 0, 0, 1, 1, 1, 1, 1, 0, 1, 1, 1, 1, 1, 1, 1,\n",
              "       1, 0, 1, 1, 1, 1, 0, 1, 1, 1, 1, 1, 0, 1, 1, 1, 1, 1, 1, 1, 1, 1,\n",
              "       2, 1, 1, 1, 1, 1, 1, 1, 1, 1, 2])"
            ]
          },
          "metadata": {
            "tags": []
          },
          "execution_count": 49
        }
      ]
    },
    {
      "cell_type": "code",
      "metadata": {
        "id": "uoJVfDZWdeub",
        "colab_type": "code",
        "outputId": "b29ba8de-5a48-4fd1-ddb9-bc65049a4dcf",
        "colab": {
          "base_uri": "https://localhost:8080/",
          "height": 72
        }
      },
      "source": [
        "cm=confusion_matrix(ytest,predic_rfc)\n",
        "cm"
      ],
      "execution_count": 0,
      "outputs": [
        {
          "output_type": "execute_result",
          "data": {
            "text/plain": [
              "array([[ 2,  7,  1],\n",
              "       [ 7, 27,  2],\n",
              "       [ 0,  9,  0]])"
            ]
          },
          "metadata": {
            "tags": []
          },
          "execution_count": 50
        }
      ]
    },
    {
      "cell_type": "code",
      "metadata": {
        "id": "Z1pZWnSd8IEb",
        "colab_type": "code",
        "colab": {}
      },
      "source": [
        "result=pd.DataFrame()\n",
        "result['id']=ytest.index\n",
        "result['real']=ytest.values\n",
        "result['predict']=predic_rfc\n",
        "\n",
        "result=pd.merge(result,df[['id','country']],on='id')\n",
        "\n",
        "result.to_csv('resultRandomForest.csv', index=False)"
      ],
      "execution_count": 0,
      "outputs": []
    },
    {
      "cell_type": "code",
      "metadata": {
        "id": "GuOSY_vYd8gE",
        "colab_type": "code",
        "colab": {}
      },
      "source": [
        "from sklearn.neighbors import KNeighborsClassifier\n",
        "knnmodel=KNeighborsClassifier(n_neighbors=5,metric='minkowski',p=2)\n",
        "knnmodel=knnmodel.fit(xtest,ytest)"
      ],
      "execution_count": 0,
      "outputs": []
    },
    {
      "cell_type": "code",
      "metadata": {
        "id": "9H42JVSmeX6p",
        "colab_type": "code",
        "colab": {}
      },
      "source": [
        "knnpred=knnmodel.predict(xtest)"
      ],
      "execution_count": 0,
      "outputs": []
    },
    {
      "cell_type": "code",
      "metadata": {
        "id": "3ZxAUMtpefc6",
        "colab_type": "code",
        "outputId": "7a0c69fc-7776-4d3f-c2f7-bf037adf9ddf",
        "colab": {
          "base_uri": "https://localhost:8080/",
          "height": 35
        }
      },
      "source": [
        "knnmodel.score(xtrain,ytrain)"
      ],
      "execution_count": 0,
      "outputs": [
        {
          "output_type": "execute_result",
          "data": {
            "text/plain": [
              "0.59375"
            ]
          },
          "metadata": {
            "tags": []
          },
          "execution_count": 54
        }
      ]
    },
    {
      "cell_type": "code",
      "metadata": {
        "id": "_k_tAigHehfJ",
        "colab_type": "code",
        "outputId": "597878be-432c-4059-f8c7-c40abe5afe57",
        "colab": {
          "base_uri": "https://localhost:8080/",
          "height": 35
        }
      },
      "source": [
        "knnmodel.score(xtest,ytest)"
      ],
      "execution_count": 0,
      "outputs": [
        {
          "output_type": "execute_result",
          "data": {
            "text/plain": [
              "0.6909090909090909"
            ]
          },
          "metadata": {
            "tags": []
          },
          "execution_count": 55
        }
      ]
    },
    {
      "cell_type": "code",
      "metadata": {
        "id": "gLKJyhLjenEt",
        "colab_type": "code",
        "outputId": "919bf925-9386-468d-c006-e3528df8f431",
        "colab": {
          "base_uri": "https://localhost:8080/",
          "height": 72
        }
      },
      "source": [
        "cm=confusion_matrix(ytest,knnpred)\n",
        "cm"
      ],
      "execution_count": 0,
      "outputs": [
        {
          "output_type": "execute_result",
          "data": {
            "text/plain": [
              "array([[ 5,  5,  0],\n",
              "       [ 3, 33,  0],\n",
              "       [ 1,  8,  0]])"
            ]
          },
          "metadata": {
            "tags": []
          },
          "execution_count": 56
        }
      ]
    },
    {
      "cell_type": "code",
      "metadata": {
        "id": "otXRDPDhfEd_",
        "colab_type": "code",
        "outputId": "81502028-64aa-49ee-e9c2-797cd833502c",
        "colab": {
          "base_uri": "https://localhost:8080/",
          "height": 354
        }
      },
      "source": [
        "fig = decision_regions(xtest, knnpred, clf=model, legend=1)\n",
        "plt.xlabel('dead')\n",
        "plt.ylabel('recover')"
      ],
      "execution_count": 0,
      "outputs": [
        {
          "output_type": "stream",
          "text": [
            "/usr/local/lib/python3.6/dist-packages/mlxtend/plotting/decision_regions.py:244: MatplotlibDeprecationWarning: Passing unsupported keyword arguments to axis() will raise a TypeError in 3.3.\n",
            "  ax.axis(xmin=xx.min(), xmax=xx.max(), y_min=yy.min(), y_max=yy.max())\n"
          ],
          "name": "stderr"
        },
        {
          "output_type": "execute_result",
          "data": {
            "text/plain": [
              "Text(0, 0.5, 'recover')"
            ]
          },
          "metadata": {
            "tags": []
          },
          "execution_count": 57
        },
        {
          "output_type": "display_data",
          "data": {
            "image/png": "[encoded data removed]",
            "text/plain": [
              "<Figure size 432x288 with 1 Axes>"
            ]
          },
          "metadata": {
            "tags": [],
            "needs_background": "light"
          }
        }
      ]
    },
    {
      "cell_type": "code",
      "metadata": {
        "id": "iO53oQKL8SLk",
        "colab_type": "code",
        "colab": {}
      },
      "source": [
        "result=pd.DataFrame()\n",
        "result['id']=ytest.index\n",
        "result['real']=ytest.values\n",
        "result['predict']=knnpred\n",
        "\n",
        "result=pd.merge(result,df[['id','country']],on='id')\n",
        "\n",
        "result.to_csv('resultKNN.csv', index=False)"
      ],
      "execution_count": 0,
      "outputs": []
    },
    {
      "cell_type": "code",
      "metadata": {
        "id": "aoVSGSMpPxlu",
        "colab_type": "code",
        "colab": {}
      },
      "source": [
        "from google.colab import drive\n",
        "drive.mount('/content/drive')"
      ],
      "execution_count": 0,
      "outputs": []
    },
    {
      "cell_type": "code",
      "metadata": {
        "id": "FZenPtQMdhXY",
        "colab_type": "code",
        "colab": {}
      },
      "source": [
        ""
      ],
      "execution_count": 0,
      "outputs": []
    }
  ]
}